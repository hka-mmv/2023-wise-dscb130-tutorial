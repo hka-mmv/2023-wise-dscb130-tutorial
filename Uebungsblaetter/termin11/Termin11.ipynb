{
 "cells": [
  {
   "cell_type": "markdown",
   "id": "3a7a36f8-2d2b-473e-8243-8f995bea6b68",
   "metadata": {},
   "source": [
    "# Übung 11"
   ]
  },
  {
   "cell_type": "markdown",
   "id": "ac56068e-ea46-4fa7-849e-0491566cbe71",
   "metadata": {
    "tags": []
   },
   "source": [
    "___"
   ]
  },
  {
   "cell_type": "markdown",
   "id": "f38b5094-af7f-4747-a9d8-53b2dc6f87bc",
   "metadata": {},
   "source": [
    "Es war einmal im zauberhaften Dorf der Weihnachtselfen, wo das ganze Jahr über festliche Stimmung herrschte. Doch in der Vorweihnachtszeit wurden die gemütlichen Elfen oft von einer Sache übermannt – dem köstlichen, dampfenden Glühwein. Die kleinen Helfer des Weihnachtsmanns genossen die warme, würzige Mischung so sehr, dass sie dabei oft vergaßen, auf die Uhr zu schauen.\n",
    "\n",
    "Die Folge war, dass die Elfen ihre Schichten für die Geschenkproduktion zu Weihnachten mehr als einmal verschliefen. Der Weihnachtsmann, normalerweise bekannt für seine gute Laune, konnte über die verschlafenen Elfenstreiche nur müde lächeln. Doch als die Kinder auf der ganzen Welt vor einem leeren Stiefel standen, entschied er sich, etwas zu unternehmen.\n",
    "\n",
    "Der Weihnachtsmann, auf der Suche nach einer modernen Lösung für sein elfisches Problem, wandte sich an die Technologie. Nach einer intensiven Recherche und dem Sammeln von Empfehlungen landete er schließlich bei einem talentierten Python-Programmierer. Der Weihnachtsmann war überzeugt, dass die magische Welt der Codes und Algorithmen die Lösung für das verschlafene Elfenproblem sein könnte.\n",
    "\n",
    "So begann die Suche nach einem Programmierer, der in der Lage war, aus einer einfachen CSV-Datei den ultimativen Weihnachts-ICS-Plan zu erstellen. Der Weihnachtsmann suchte jemanden, der nicht nur die Sprache der Algorithmen beherrschte, sondern auch die Sprache der Elfen verstand.\n",
    "\n",
    "Und so öffnet sich das Tor zu deinem Abenteuer, junger Python-Programmierer. Der Weihnachtsmann wartet darauf, dass du die verschlafenen Elfen rettest und Weihnachten für Kinder auf der ganzen Welt wieder magisch machst. Bereite dich darauf vor, den Zauber der Programmierung in die elfische\n",
    "Welt zu bringen und die verschlafenen Streiche der Elfen zu beenden!"
   ]
  },
  {
   "cell_type": "markdown",
   "id": "852ffd1e-406f-4f93-aec1-56d295642539",
   "metadata": {
    "tags": []
   },
   "source": []
  },
  {
   "cell_type": "markdown",
   "id": "0088ce80-00c8-4489-81e4-e569f0eaf9a6",
   "metadata": {},
   "source": [
    "Gegeben ist eine .csv Datei in der alle Schichten für alle Elfen eingetragen sind.\n",
    "\n",
    "Überlege dir wie du die Daten aus der CSV extrahierst und wie du die richtigen Daten an den richtigen Ort in dem ics Template platzierst.\n",
    "\n",
    "Wenn eine Elfe einen freien Tag hat, soll keine .ics Datei erzeugt werden"
   ]
  },
  {
   "cell_type": "markdown",
   "id": "b79e2e3e-6e32-47a9-bc21-903c415f1016",
   "metadata": {},
   "source": [
    "___"
   ]
  },
  {
   "cell_type": "code",
   "execution_count": null,
   "outputs": [],
   "source": [
    "%pip install ics"
   ],
   "metadata": {
    "collapsed": false,
    "is_executing": true
   },
   "id": "c82e9884d0f866f9"
  },
  {
   "cell_type": "code",
   "execution_count": 3,
   "id": "c7b3ee5e-feb4-4d9b-ac5c-5b0f41aca80d",
   "metadata": {
    "tags": []
   },
   "outputs": [],
   "source": [
    "import csv\n",
    "from datetime import datetime, timedelta\n",
    "from ics import Calendar, Event, Alarm\n",
    "\n",
    "def read_csv(...):\n",
    "    # Code zum Einlesen der CSV-Datei hier\n",
    "    pass"
   ]
  },
  {
   "cell_type": "markdown",
   "id": "801ad528-6155-40cd-ae67-bc3ede328c79",
   "metadata": {},
   "source": [
    "___"
   ]
  },
  {
   "cell_type": "code",
   "execution_count": 1,
   "id": "ea122313-c52a-4729-9c2e-90f815a470a3",
   "metadata": {
    "ExecuteTime": {
     "end_time": "2023-12-20T21:46:35.704341471Z",
     "start_time": "2023-12-20T21:46:35.444544199Z"
    }
   },
   "outputs": [
    {
     "ename": "NameError",
     "evalue": "name 'alle_listen' is not defined",
     "output_type": "error",
     "traceback": [
      "\u001B[0;31m---------------------------------------------------------------------------\u001B[0m",
      "\u001B[0;31mNameError\u001B[0m                                 Traceback (most recent call last)",
      "Cell \u001B[0;32mIn[1], line 42\u001B[0m\n\u001B[1;32m     38\u001B[0m     \u001B[38;5;28;01mwith\u001B[39;00m \u001B[38;5;28mopen\u001B[39m(file_name, \u001B[38;5;124m'\u001B[39m\u001B[38;5;124mw\u001B[39m\u001B[38;5;124m'\u001B[39m) \u001B[38;5;28;01mas\u001B[39;00m f:\n\u001B[1;32m     39\u001B[0m         f\u001B[38;5;241m.\u001B[39mwritelines(cal)\n\u001B[0;32m---> 42\u001B[0m \u001B[38;5;28;01mfor\u001B[39;00m elfen_liste \u001B[38;5;129;01min\u001B[39;00m \u001B[43malle_listen\u001B[49m:\n\u001B[1;32m     43\u001B[0m     elfenname \u001B[38;5;241m=\u001B[39m elfen_liste[\u001B[38;5;241m0\u001B[39m][\u001B[38;5;124m'\u001B[39m\u001B[38;5;124mElfennamen\u001B[39m\u001B[38;5;124m'\u001B[39m]  \u001B[38;5;66;03m# Der Elfennamen ist in allen Einträgen der Liste gleich\u001B[39;00m\n\u001B[1;32m     45\u001B[0m     \u001B[38;5;66;03m# Erstelle eine Liste von Events für den Elf\u001B[39;00m\n",
      "\u001B[0;31mNameError\u001B[0m: name 'alle_listen' is not defined"
     ]
    }
   ],
   "source": [
    "from ics import Calendar, Event, AudioAlarm\n",
    "from datetime import datetime, time, timedelta\n",
    "\n",
    "# Hier sind zwei Funktionen bereits vorgegeben, damit ihr nicht extra in die API Dokumentation von ics gucken müsst. \n",
    "# Die zwei Funktionen könnt ihr nutzen um euer Programm zu schreiben. guckt aber vorher euch an wie diese zwei Funktionen implementiert sind.\n",
    "\n",
    "def create_event(schicht, ort, schichtleiter, datum):\n",
    "    schichtbeginn, schichtende = map(int, schicht.split('-'))\n",
    "    schichtbeginn_time = time(schichtbeginn)\n",
    "    schichtende_time = time(schichtende)\n",
    "    \n",
    "    beginn = datetime.combine(datum, schichtbeginn_time)  # Achtung: datum muss als date()-Objekt übergeben werden und Schichtbeginn/ende als time()\n",
    "    ende = datetime.combine(datum, schichtende_time)  # Achtung: datum muss als date()-Objekt übergeben werden und Schichtbeginn/ende als time() objekt\n",
    "    \n",
    "    return Event(\n",
    "        begin=beginn,\n",
    "        location=ort,\n",
    "        organizer=schichtleiter,\n",
    "        end=ende\n",
    "    )\n",
    "\n",
    "\n",
    "def create_elf_ics(events, alarm_minutes, file_name):\n",
    "    if not events:\n",
    "        print(f\"Keine Events für {file_name} erstellt (frei-Schichten)\")\n",
    "        return\n",
    "    \n",
    "    cal = Calendar()\n",
    "    alarm = AudioAlarm(trigger=timedelta(minutes=alarm_minutes))\n",
    "    print(alarm)\n",
    "\n",
    "    for event in events:\n",
    "        print(event)\n",
    "        if event:\n",
    "            event.alarms.append(alarm)\n",
    "            cal.events.add(event)\n",
    "        \n",
    "    with open(file_name, 'w') as f:\n",
    "        f.writelines(cal)\n",
    "        \n",
    "\n",
    "# code here"
   ]
  }
 ],
 "metadata": {
  "kernelspec": {
   "display_name": "Python 3 (ipykernel)",
   "language": "python",
   "name": "python3"
  },
  "language_info": {
   "codemirror_mode": {
    "name": "ipython",
    "version": 3
   },
   "file_extension": ".py",
   "mimetype": "text/x-python",
   "name": "python",
   "nbconvert_exporter": "python",
   "pygments_lexer": "ipython3",
   "version": "3.11.4"
  }
 },
 "nbformat": 4,
 "nbformat_minor": 5
}
