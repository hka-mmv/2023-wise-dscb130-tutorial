{
 "cells": [
  {
   "cell_type": "markdown",
   "metadata": {},
   "source": [
    "# Termin 9"
   ]
  },
  {
   "cell_type": "markdown",
   "metadata": {},
   "source": [
    "In diesem Notebook wollen wir für eine Weihnachtsfeier ein Programm bauen, das unsere Bestellungen verwaltet.\n",
    "\n",
    "Unter [`files/items_vendors.csv`](files/items_vendors.csv) liegt eine CSV (Comma separated values) Datei, die alle verfügbaren Artikel gespeichert hat.\n",
    "\n",
    "Im Code unten wird diese Datei in ein Dictionary `items` gelesen.\n",
    "\n",
    "In `items` liegen die Dateien in folgendem Format vor (Beispiel für Glühwein):\n",
    "\n",
    "```python\n",
    "{\n",
    "    \"Glühwein\": {\n",
    "        \"available_quantity\": 200,\n",
    "        \"price\": 2.5,\n",
    "        \"unit_size\": \"1 l\",\n",
    "        \"vendor\": \"Getränke Markt 'Trink Aus'\"\n",
    "    }\n",
    "}\n",
    "```\n"
   ]
  },
  {
   "cell_type": "code",
   "execution_count": 1,
   "metadata": {},
   "outputs": [],
   "source": [
    "import csv\n",
    "\n",
    "csv_file_path = 'files/items_vendors.csv'\n",
    "\n",
    "with open(csv_file_path, 'r') as file:\n",
    "    # Erstelle einen CSV-DictReader\n",
    "    csv_reader = csv.DictReader(file)\n",
    "\n",
    "    items = {}\n",
    "\n",
    "    # Iteriere durch die Zeilen der CSV-Datei\n",
    "    for row in csv_reader:\n",
    "        item_name = row[\"item\"]\n",
    "        del row[\"item\"]\n",
    "        item = {\n",
    "            \"unit_size\": row[\"unit_size\"],\n",
    "            \"price\": float(row[\"price\"]),\n",
    "            \"vendor\": row[\"vendor\"],\n",
    "            \"available_quantity\": int(row[\"available_quantity\"]),\n",
    "        }\n",
    "        items[item_name] = item\n"
   ]
  },
  {
   "cell_type": "markdown",
   "metadata": {},
   "source": [
    "## Aufgaben"
   ]
  },
  {
   "cell_type": "markdown",
   "metadata": {},
   "source": [
    "Schreibe jetzt zunächst eine Funktion `show_items()`, die für alle Artikel in `items` alle Werte ausgibt.\n",
    "\n",
    "Das Format sollte so sein:\n",
    "```text\n",
    "0 items of Glühwein available.\n",
    "\tPrice: 2.5, Unit Size: 1 l, Vendor: Getränke Markt \"Trink Aus\"\n",
    "```"
   ]
  },
  {
   "cell_type": "code",
   "execution_count": 2,
   "metadata": {},
   "outputs": [],
   "source": [
    "def show_items():\n",
    "    pass\n"
   ]
  },
  {
   "cell_type": "code",
   "execution_count": 3,
   "metadata": {},
   "outputs": [],
   "source": [
    "show_items()"
   ]
  },
  {
   "cell_type": "markdown",
   "metadata": {},
   "source": [
    "Schreibe jetzt eine Funktion `add_order(item_name, quantity)` die eine Bestellung für einen Artikel erstellt.\n",
    "\n",
    "Bestellungen sollen als Dictionary zu der Liste `orders` hinzugefügt werden.\n",
    "\n",
    "Das Format für eine Bestellung soll so aussehen:\n",
    "\n",
    "```text\n",
    "order = {\n",
    "    \"item\": item_name,\n",
    "    \"order_quantity\": quantity,\n",
    "    \"total_price\": total_price,\n",
    "    \"vendor\": vendor\n",
    "}\n",
    "```\n",
    "\n",
    "`total_price` soll aus dem Stückpreis und der Menge berechnet werden.\n",
    "\n",
    "**Wichtig:**\n",
    "\n",
    "Wenn der Name nicht in `items` enthalten is, soll eine Fehlernachricht ausgegeben werden.\n",
    "\n",
    "Wenn `quantity` größer ist als die verfügbare Menge `available_quantity` in `items` soll ebenfalls eine Fehlernachticht ausgegeben werden."
   ]
  },
  {
   "cell_type": "code",
   "execution_count": 4,
   "metadata": {},
   "outputs": [],
   "source": [
    "orders = []\n",
    "\n",
    "def add_order(item_name, quantity):\n",
    "    pass\n"
   ]
  },
  {
   "cell_type": "markdown",
   "metadata": {},
   "source": [
    "Füge jetzt einige Bestellungen hinzu."
   ]
  },
  {
   "cell_type": "code",
   "execution_count": 5,
   "metadata": {},
   "outputs": [],
   "source": [
    "add_order(\"Glühwein\", 30)"
   ]
  },
  {
   "cell_type": "markdown",
   "metadata": {},
   "source": [
    "Schreibe jetzt noch eine Funktion `show_orders()`, die alle aufgegebenen Bestellungen in `orders` ausgibt.\n",
    "\n",
    "Das Format der Ausgabe sollte so aussehen:\n",
    "\n",
    "```text\n",
    "20 Glühwein: Total Price: 50.00€, Vendor: Getränke Markt \"Trink Aus\"\n",
    "```"
   ]
  },
  {
   "cell_type": "code",
   "execution_count": 6,
   "metadata": {},
   "outputs": [],
   "source": [
    "def show_orders():\n",
    "    pass"
   ]
  },
  {
   "cell_type": "code",
   "execution_count": 7,
   "metadata": {},
   "outputs": [],
   "source": [
    "show_orders()"
   ]
  },
  {
   "cell_type": "markdown",
   "metadata": {},
   "source": [
    "Schreibe jetzt eine Funktion `write_letters()`, die für alle Bestellungen einen Text für einen Bestellungsbrief an den Verkäufer schreibt.\n",
    "\n",
    "Überlege dir dafür einen passenden Text, der alle Informationen aus den Bestellungen enthält.\n",
    "\n",
    "Gebe diese Briefe dann auf der Konsole aus."
   ]
  },
  {
   "cell_type": "code",
   "execution_count": 8,
   "metadata": {},
   "outputs": [],
   "source": [
    "def write_letters():\n",
    "    pass\n"
   ]
  },
  {
   "cell_type": "code",
   "execution_count": 9,
   "metadata": {},
   "outputs": [],
   "source": [
    "write_letters()"
   ]
  },
  {
   "cell_type": "markdown",
   "metadata": {},
   "source": [
    "## Zusatzaufgabe\n",
    "\n",
    "Optional kannst du noch die Bestellungen nach Verkäufern gruppieren. Also sollte jeder Verkäufer nur einen Brief mit allen Bestellungen für diesen Verkäufer erhalten."
   ]
  },
  {
   "cell_type": "code",
   "execution_count": 10,
   "metadata": {},
   "outputs": [],
   "source": [
    "def write_letters_grouped():\n",
    "    pass\n",
    " "
   ]
  },
  {
   "cell_type": "code",
   "execution_count": 11,
   "metadata": {},
   "outputs": [],
   "source": [
    "write_letters_grouped()"
   ]
  }
 ],
 "metadata": {
  "kernelspec": {
   "display_name": "base",
   "language": "python",
   "name": "python3"
  },
  "language_info": {
   "codemirror_mode": {
    "name": "ipython",
    "version": 3
   },
   "file_extension": ".py",
   "mimetype": "text/x-python",
   "name": "python",
   "nbconvert_exporter": "python",
   "pygments_lexer": "ipython3",
   "version": "3.10.9"
  }
 },
 "nbformat": 4,
 "nbformat_minor": 2
}
