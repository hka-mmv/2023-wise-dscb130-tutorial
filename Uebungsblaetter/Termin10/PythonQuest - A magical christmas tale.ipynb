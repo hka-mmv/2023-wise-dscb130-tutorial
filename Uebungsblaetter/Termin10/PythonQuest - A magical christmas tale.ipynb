{
 "cells": [
  {
   "cell_type": "markdown",
   "metadata": {},
   "source": [
    "# PythonQuest: A magical Christmas tale"
   ]
  },
  {
   "cell_type": "markdown",
   "metadata": {},
   "source": [
    "![Pyra drinking a hot choclate](./_75737242-b8b6-4edc-9cd4-4f364fd8505a.jpeg)\n",
    "\n",
    "In the festive land of Pythonia, where the magic of the winter season intertwines with lines of code, Pyra the Programmer finds herself embarking on a special Christmas adventure. Summoned by the Grand Pythonian Council, Pyra's mission is to bring order to the North Pole's chaos by assisting the Elves in their seasonal preparations."
   ]
  },
  {
   "cell_type": "markdown",
   "metadata": {},
   "source": [
    "## Task 1: Sweet Hot Chocolate Break\n",
    "\n",
    "Pyra's first task is to lend her coding expertise to the Elves, who are eager to create delicious hot chocolate for the holiday season. The key ingredient? A festive bar of chocolate that needs to be broken into pieces.  The chocolate bar is a grid with dimensions $w \\times h$ where $w$ represents the width and $h$ represents the length. However, there are strict rules to follow:\n",
    "\n",
    "- The chocolate can only be broken along predetermined breaking points.\n",
    "- It is forbidden to place pieces of chocolate on top of each other or next to each other.\n",
    "\n",
    "The Elves are counting on Pyra to create a function, `min_chocolate_breaks`, that takes the dimensions of the chocolate bar and calculates the minimum number of operations needed to break it into it's pieces. Pyra, aims to ensure that the Elves can enjoy their hot chocolate without any chocolate mishaps.\n",
    "\n",
    "**Input:**\n",
    "The first and only line of input contains two integers $w, h \\leq 10^4$ representing the width and length of the chocolate.\n",
    "\n",
    "**Output:**\n",
    "Print the minimum number of operations needed to break the chocolate into it's pieces, ensuring the Elves can enjoy their hot chocolate without any chocolate mishaps.\n",
    "\n",
    "The Elves are eager to know the most efficient way to break the chocolate into it's pieces with as few breaking operations as possible. Can you help them?"
   ]
  },
  {
   "cell_type": "markdown",
   "metadata": {},
   "source": [
    "| Sample input | Sample output |\n",
    "| ------------ | ------------- |\n",
    "| `1 1`        | `0`           |\n",
    "| `2 1`        | `1`           |\n",
    "| `2 2`        | `3`           |"
   ]
  },
  {
   "cell_type": "code",
   "execution_count": null,
   "metadata": {},
   "outputs": [],
   "source": []
  },
  {
   "cell_type": "code",
   "execution_count": null,
   "metadata": {},
   "outputs": [],
   "source": []
  },
  {
   "cell_type": "markdown",
   "metadata": {},
   "source": [
    "## Task 2: Efficient Box Storage \n",
    "\n",
    "Santa's Elves are busy preparing for Christmas, and they need your help to optimize the stacking of gift boxes in the workshop. Each gift box is represented by a positive integer, indicating its size.\n",
    "\n",
    "To ensure the workshop is organized and space-efficient, the Elves have established the following rules for stacking boxes:\n",
    "\n",
    "- A smaller box can be placed inside a larger box, but only if the size of the larger box is at least twice as large as the size of the smaller box.\n",
    "- At most one box is allowed to be placed directly inside another box, though the smaller box can still contain additional boxes.\n",
    "\n",
    "To enhance space efficiency, Pyra decides to create a function `min_visible_boxes`, that minimizes the number of visible boxes in the workshop.\n",
    "\n",
    "**Input:**\n",
    "The input begins with a line containing the number of available gift boxes, denoted as $n$ $(1 \\leq n \\leq 5 \\times 10^5)$. The next $n$ lines each contain the size of a single gift box. The $(i + 1)$-th line contains the size of the $i$-th gift box.\n",
    "\n",
    "**Output:**\n",
    "Print the minimum possible number of visible gift boxes on a single line, considering the stacking rules."
   ]
  },
  {
   "cell_type": "markdown",
   "metadata": {},
   "source": [
    "| Sample input                                          | Sample output |\n",
    "| ----------------------------------------------------- | ------------- |\n",
    "| `5` <br/> `1` <br/> `2` <br/> `3` <br/> `3` <br/> `5` | `3`           |\n"
   ]
  },
  {
   "cell_type": "code",
   "execution_count": null,
   "metadata": {},
   "outputs": [],
   "source": []
  },
  {
   "cell_type": "code",
   "execution_count": null,
   "metadata": {},
   "outputs": [],
   "source": []
  },
  {
   "cell_type": "markdown",
   "metadata": {},
   "source": [
    "## Task 3: Christmas Carol Contest\n",
    "\n",
    "To spread cheer, Pyra decides to host a carol contest to come up with new carols that the Elves can sing while coding. But oh no! The Elves were so excited about creating Christmas carols that they spilled hot chocolate over their keyboards. Now, some keys are sticky, and certain letters are being duplicated every time they press those keys.\n",
    "\n",
    "The Elves are in a bit of a _sticky_ situation as the contest ist starting soon. They don't have time to clean the entire keyboard, but they need to identify which keys are sticky. To do this, they've typed some text on the sticky keyboard and observed the resulting text in their favorite code editor.\n",
    "\n",
    "Given the text they typed on the keyboard and the resulting text in their code editor, your task is to find out which keys are sticky and causing the duplication. Create a function `identify_sticky_keys` that identifies the keys that are sticky.\n",
    "\n",
    "**Input:**\n",
    "- The first line contains the string $s$ $(1 \\leq |s| \\leq 1000)$, representing the text that the elves typed into the sticky keyboard.\n",
    "- The second line contains the string $t$ $(1 \\leq |t| \\leq 1000)$, representing the resulting text displayed in the editor.\n",
    "- Both $s$ and $t$ contain only lowercase letters and spaces.\n",
    "- It is guaranteed that $t$ is the result of doubling each sticky key in $s$, and there is at least one sticky key (i.e., $s \\neq t$).\n",
    "\n",
    "**Output:**\n",
    "Output all characters (letters and space) whose keys must be sticky, in any order.\n"
   ]
  },
  {
   "cell_type": "markdown",
   "metadata": {},
   "source": [
    "| Sample input                                              | Sample output |\n",
    "| --------------------------------------------------------- | ------------- |\n",
    "| `some keys are sticky` <br/> `soome keyys are stickyy`    | `yo`          |\n",
    "| `shoot for the moon` <br/> `sshhoooott foor tthhe moooon` | `soth`        |\n",
    "| `make it stop` <br/> `mmake it stopp`                     | `p m`         |"
   ]
  },
  {
   "cell_type": "code",
   "execution_count": null,
   "metadata": {},
   "outputs": [],
   "source": []
  },
  {
   "cell_type": "code",
   "execution_count": null,
   "metadata": {},
   "outputs": [],
   "source": []
  },
  {
   "cell_type": "markdown",
   "metadata": {},
   "source": [
    "## The End\n",
    "\n",
    "As Pyra completes each coding task, the North Pole transforms into a haven of holiday harmony. The Elves code merrily to the Christmas carols int the background and Santa's sleigh glides smoothly through the starry night. Pythonia is aglow with the magic of code and Christmas cheer, thanks to Pyra's festive coding tale.\n",
    "\n",
    "May your holiday code be merry and bright, and may Pyra's Christmas coding adventures bring joy to Pythonia!"
   ]
  }
 ],
 "metadata": {
  "language_info": {
   "name": "python"
  }
 },
 "nbformat": 4,
 "nbformat_minor": 2
}
