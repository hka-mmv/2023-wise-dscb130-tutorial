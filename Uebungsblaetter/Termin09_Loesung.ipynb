{
 "cells": [
  {
   "cell_type": "markdown",
   "metadata": {},
   "source": [
    "# Termin 9"
   ]
  },
  {
   "cell_type": "markdown",
   "metadata": {},
   "source": [
    "In diesem Notebook wollen wir für eine Weihnachtsfeier ein Programm bauen, das unsere Bestellungen verwaltet.\n",
    "\n",
    "Unter [`files/items_vendors.csv`](files/items_vendors.csv) liegt eine CSV (Comma separated values) Datei, die alle verfügbaren Artikel gespeichert hat.\n",
    "\n",
    "Im Code unten wird diese Datei in ein Dictionary `items` gelesen.\n",
    "\n",
    "In `items` liegen die Dateien in folgendem Format vor (Beispiel für Glühwein):\n",
    "\n",
    "```python\n",
    "{\n",
    "    \"Glühwein\": {\n",
    "        \"available_quantity\": 200,\n",
    "        \"price\": 2.5,\n",
    "        \"unit_size\": \"1 l\",\n",
    "        \"vendor\": \"Getränke Markt 'Trink Aus'\"\n",
    "    }\n",
    "}\n",
    "```\n"
   ]
  },
  {
   "cell_type": "code",
   "execution_count": 14,
   "metadata": {},
   "outputs": [],
   "source": [
    "import csv\n",
    "\n",
    "csv_file_path = 'files/items_vendors.csv'\n",
    "\n",
    "with open(csv_file_path, 'r') as file:\n",
    "    # Erstelle einen CSV-DictReader\n",
    "    csv_reader = csv.DictReader(file)\n",
    "\n",
    "    items = {}\n",
    "\n",
    "    # Iteriere durch die Zeilen der CSV-Datei\n",
    "    for row in csv_reader:\n",
    "        item_name = row[\"item\"]\n",
    "        del row[\"item\"]\n",
    "        item = {\n",
    "            \"unit_size\": row[\"unit_size\"],\n",
    "            \"price\": float(row[\"price\"]),\n",
    "            \"vendor\": row[\"vendor\"],\n",
    "            \"available_quantity\": int(row[\"available_quantity\"]),\n",
    "        }\n",
    "        items[item_name] = item\n"
   ]
  },
  {
   "cell_type": "markdown",
   "metadata": {},
   "source": [
    "# Aufgaben"
   ]
  },
  {
   "cell_type": "markdown",
   "metadata": {},
   "source": [
    "Schreibe jetzt zunächst eine Funktion `show_items()`, die für alle Artikel in `items` alle Werte ausgibt.\n",
    "\n",
    "Das Format sollte so sein:\n",
    "```text\n",
    "0 items of Glühwein available.\n",
    "\tPrice: 2.5, Unit Size: 1 l, Vendor: Getränke Markt \"Trink Aus\"\n",
    "```"
   ]
  },
  {
   "cell_type": "code",
   "execution_count": 15,
   "metadata": {},
   "outputs": [],
   "source": [
    "def show_items():\n",
    "    for item_name, item in items.items():\n",
    "        print(f\"{item['available_quantity']} items of {item_name} available.\")\n",
    "        print(f\"\\tPrice: {item['price']}, Unit Size: {item['unit_size']}, Vendor: {item['vendor']}\")"
   ]
  },
  {
   "cell_type": "code",
   "execution_count": 16,
   "metadata": {},
   "outputs": [
    {
     "name": "stdout",
     "output_type": "stream",
     "text": [
      "200 items of Glühwein available.\n",
      "\tPrice: 2.5, Unit Size: 1 l, Vendor: Getränke Markt \"Trink Aus\"\n",
      "100 items of Kekse available.\n",
      "\tPrice: 5.99, Unit Size: 0.5 kg, Vendor: Bäckerei Meier\n",
      "100 items of Weihnachtsbaum available.\n",
      "\tPrice: 50.0, Unit Size: 1, Vendor: Baumschule GmbH\n",
      "200 items of Lichterketten available.\n",
      "\tPrice: 8.99, Unit Size: 1, Vendor: Dekorationen und Mehr\n",
      "150 items of Weihnachtsgirlanden available.\n",
      "\tPrice: 12.5, Unit Size: 3, Vendor: Dekorationen und Mehr\n",
      "500 items of Weihnachtskugeln available.\n",
      "\tPrice: 6.99, Unit Size: 12, Vendor: Dekorationen und Mehr\n",
      "100 items of Weihnachtskerzen available.\n",
      "\tPrice: 4.5, Unit Size: 10, Vendor: Dekorationen und Mehr\n",
      "300 items of Geschenkpapier available.\n",
      "\tPrice: 5.99, Unit Size: 1, Vendor: Dekorationen und Mehr\n",
      "200 items of Geschenkbänder available.\n",
      "\tPrice: 3.25, Unit Size: 3, Vendor: Dekorationen und Mehr\n",
      "1000 items of Weihnachtsessen (pro Person) available.\n",
      "\tPrice: 15.99, Unit Size: 1, Vendor: Katering Karlsruhe\n",
      "50 items of Rentierkostüme available.\n",
      "\tPrice: 25.0, Unit Size: 1, Vendor: Kostüme\n"
     ]
    }
   ],
   "source": [
    "show_items()"
   ]
  },
  {
   "cell_type": "markdown",
   "metadata": {},
   "source": [
    "Schreibe jetzt eine Funktion `add_order(item_name, quantity)` die eine Bestellung für einen Artikel erstellt.\n",
    "\n",
    "Bestellungen sollen als Dictionary zu der Liste `orders` hinzugefügt werden.\n",
    "\n",
    "Das Format für eine Bestellung soll so aussehen:\n",
    "\n",
    "```text\n",
    "order = {\n",
    "    \"item\": item_name,\n",
    "    \"order_quantity\": quantity,\n",
    "    \"total_price\": total_price,\n",
    "    \"vendor\": vendor\n",
    "}\n",
    "```\n",
    "\n",
    "`total_price` soll aus dem Stückpreis und der Menge berechnet werden.\n",
    "\n",
    "**Wichtig:**\n",
    "\n",
    "Wenn der Name nicht in `items` enthalten is, soll eine Fehlernachricht ausgegeben werden.\n",
    "\n",
    "Wenn `quantity` größer ist als die verfügbare Menge `available_quantity` in `items` soll ebenfalls eine Fehlernachticht ausgegeben werden."
   ]
  },
  {
   "cell_type": "code",
   "execution_count": 17,
   "metadata": {},
   "outputs": [],
   "source": [
    "orders = []\n",
    "\n",
    "def add_order(item_name, quantity):\n",
    "    if item_name not in items.keys():\n",
    "        print(f\"The item '{item_name}' cannot be found in the available items.\")\n",
    "        return False\n",
    "    if quantity > items[item_name][\"available_quantity\"]:\n",
    "        print(f\"There are only {items[item_name]['available_quantity']} items left of {item_name}.\")\n",
    "        return False\n",
    "\n",
    "    # Calculate the total price\n",
    "    total_price = items[item_name][\"price\"] * quantity\n",
    "    # Reduce the available quantity of the item\n",
    "    items[item_name][\"available_quantity\"] -= quantity\n",
    "\n",
    "    # Save the order as a dict in the orders list\n",
    "    order = {\n",
    "        \"item\": item_name,\n",
    "        \"order_quantity\": quantity,\n",
    "        \"total_price\": total_price,\n",
    "        \"vendor\": items[item_name][\"vendor\"]\n",
    "    }\n",
    "    orders.append(order)"
   ]
  },
  {
   "cell_type": "markdown",
   "metadata": {},
   "source": [
    "Füge jetzt einige Bestellungen hinzu."
   ]
  },
  {
   "cell_type": "code",
   "execution_count": 18,
   "metadata": {},
   "outputs": [],
   "source": [
    "add_order(\"Glühwein\", 30)\n",
    "add_order(\"Rentierkostüme\", 5)\n",
    "add_order(\"Weihnachtskerzen\", 100)\n",
    "add_order(\"Weihnachtsbaum\", 1)\n",
    "add_order(\"Weihnachtskugeln\", 20)\n",
    "add_order(\"Lichterketten\", 5)"
   ]
  },
  {
   "cell_type": "markdown",
   "metadata": {},
   "source": [
    "Schreibe jetzt noch eine Funktion `show_orders()`, die alle aufgegebenen Bestellungen in `orders` ausgibt.\n",
    "\n",
    "Das Format der Ausgabe sollte so aussehen:\n",
    "\n",
    "```text\n",
    "20 Glühwein: Total Price: 50.00€, Vendor: Getränke Markt \"Trink Aus\"\n",
    "```"
   ]
  },
  {
   "cell_type": "code",
   "execution_count": 19,
   "metadata": {},
   "outputs": [],
   "source": [
    "def show_orders():\n",
    "    for order in orders:\n",
    "        print(f\"{order['order_quantity']} {order['item']}: Total Price: {order['total_price']:.2f}€, Vendor: {order['vendor']}\")"
   ]
  },
  {
   "cell_type": "code",
   "execution_count": 20,
   "metadata": {},
   "outputs": [
    {
     "name": "stdout",
     "output_type": "stream",
     "text": [
      "30 Glühwein: Total Price: 75.00€, Vendor: Getränke Markt \"Trink Aus\"\n",
      "5 Rentierkostüme: Total Price: 125.00€, Vendor: Kostüme\n",
      "100 Weihnachtskerzen: Total Price: 450.00€, Vendor: Dekorationen und Mehr\n",
      "1 Weihnachtsbaum: Total Price: 50.00€, Vendor: Baumschule GmbH\n",
      "20 Weihnachtskugeln: Total Price: 139.80€, Vendor: Dekorationen und Mehr\n",
      "5 Lichterketten: Total Price: 44.95€, Vendor: Dekorationen und Mehr\n"
     ]
    }
   ],
   "source": [
    "show_orders()"
   ]
  },
  {
   "cell_type": "markdown",
   "metadata": {},
   "source": [
    "Schreibe jetzt eine Funktion `write_letters()`, die für alle Bestellungen einen Text für einen Bestellungsbrief an den Verkäufer schreibt.\n",
    "\n",
    "Überlege dir dafür einen passenden Text, der alle Informationen aus den Bestellungen enthält.\n",
    "\n",
    "Gebe diese Briefe dann auf der Konsole aus."
   ]
  },
  {
   "cell_type": "code",
   "execution_count": 21,
   "metadata": {},
   "outputs": [],
   "source": [
    "def write_letters():\n",
    "    letters = []\n",
    "    for order in orders:\n",
    "        item = order[\"item\"]\n",
    "        vendor = order[\"vendor\"]\n",
    "        total_price = order[\"total_price\"]\n",
    "        order_quantity = order[\"order_quantity\"]\n",
    "        letter = (\n",
    "f\"\"\"Hallo {vendor},\n",
    "\n",
    "Wir würden für unsere Weihnachtsfeier gerne {order_quantity} {item} bestellen.\n",
    "\n",
    "Der Gesamtpreis von {total_price} € wird dafür an Sie überwiesen.\n",
    "\n",
    "Liebe Grüße\n",
    "\"\"\"\n",
    "        )\n",
    "        letters.append(letter)\n",
    "        print(\"#####\")\n",
    "        print(letter)\n",
    "        print(\"#####\")"
   ]
  },
  {
   "cell_type": "code",
   "execution_count": 22,
   "metadata": {},
   "outputs": [
    {
     "name": "stdout",
     "output_type": "stream",
     "text": [
      "#####\n",
      "Hallo Getränke Markt \"Trink Aus\",\n",
      "\n",
      "Wir würden für unsere Weihnachtsfeier gerne 30 Glühwein bestellen.\n",
      "\n",
      "Der Gesamtpreis von 75.0 € wird dafür an Sie überwiesen.\n",
      "\n",
      "Liebe Grüße\n",
      "\n",
      "#####\n",
      "#####\n",
      "Hallo Kostüme,\n",
      "\n",
      "Wir würden für unsere Weihnachtsfeier gerne 5 Rentierkostüme bestellen.\n",
      "\n",
      "Der Gesamtpreis von 125.0 € wird dafür an Sie überwiesen.\n",
      "\n",
      "Liebe Grüße\n",
      "\n",
      "#####\n",
      "#####\n",
      "Hallo Dekorationen und Mehr,\n",
      "\n",
      "Wir würden für unsere Weihnachtsfeier gerne 100 Weihnachtskerzen bestellen.\n",
      "\n",
      "Der Gesamtpreis von 450.0 € wird dafür an Sie überwiesen.\n",
      "\n",
      "Liebe Grüße\n",
      "\n",
      "#####\n",
      "#####\n",
      "Hallo Baumschule GmbH,\n",
      "\n",
      "Wir würden für unsere Weihnachtsfeier gerne 1 Weihnachtsbaum bestellen.\n",
      "\n",
      "Der Gesamtpreis von 50.0 € wird dafür an Sie überwiesen.\n",
      "\n",
      "Liebe Grüße\n",
      "\n",
      "#####\n",
      "#####\n",
      "Hallo Dekorationen und Mehr,\n",
      "\n",
      "Wir würden für unsere Weihnachtsfeier gerne 20 Weihnachtskugeln bestellen.\n",
      "\n",
      "Der Gesamtpreis von 139.8 € wird dafür an Sie überwiesen.\n",
      "\n",
      "Liebe Grüße\n",
      "\n",
      "#####\n",
      "#####\n",
      "Hallo Dekorationen und Mehr,\n",
      "\n",
      "Wir würden für unsere Weihnachtsfeier gerne 5 Lichterketten bestellen.\n",
      "\n",
      "Der Gesamtpreis von 44.95 € wird dafür an Sie überwiesen.\n",
      "\n",
      "Liebe Grüße\n",
      "\n",
      "#####\n"
     ]
    }
   ],
   "source": [
    "write_letters()"
   ]
  },
  {
   "cell_type": "markdown",
   "metadata": {},
   "source": [
    "Optional kannst du noch die Bestellungen nach Verkäufern gruppieren. Also sollte jeder Verkäufer nur einen Brief mit allen Bestellungen für diesen Verkäufer erhalten."
   ]
  },
  {
   "cell_type": "code",
   "execution_count": 23,
   "metadata": {},
   "outputs": [],
   "source": [
    "def write_letters_grouped():\n",
    "    vendors = set()\n",
    "    for item_name, item in items.items():\n",
    "        vendors.add(item[\"vendor\"])\n",
    "\n",
    "    vendor_orders = {}\n",
    "    for order in orders:\n",
    "        if order[\"vendor\"] not in vendor_orders.keys():\n",
    "            vendor_orders[order[\"vendor\"]] = [order]\n",
    "        else:\n",
    "            vendor_orders[order[\"vendor\"]].append(order)\n",
    "    \n",
    "    for vendor, order_list in vendor_orders.items():\n",
    "        order_lines = \"\"\n",
    "        for line in order_list:\n",
    "            order_lines += f\"{line['order_quantity']} {line['item']} for {line['total_price']} \\n\"\n",
    "        letter = (\n",
    "f\"\"\"Hallo {vendor},\n",
    "\n",
    "Wir würden für unsere Weihnachtsfeier gerne die folgenden Artikel bestellen:\n",
    "\n",
    "{order_lines}\n",
    "\n",
    "Liebe Grüße\n",
    "\"\"\"\n",
    "        )\n",
    "        print(letter)\n",
    "\n",
    "            "
   ]
  },
  {
   "cell_type": "code",
   "execution_count": 24,
   "metadata": {},
   "outputs": [
    {
     "name": "stdout",
     "output_type": "stream",
     "text": [
      "Hallo Getränke Markt \"Trink Aus\",\n",
      "\n",
      "Wir würden für unsere Weihnachtsfeier gerne die folgenden Artikel bestellen:\n",
      "\n",
      "30 Glühwein for 75.0 \n",
      "\n",
      "\n",
      "Liebe Grüße\n",
      "\n",
      "Hallo Kostüme,\n",
      "\n",
      "Wir würden für unsere Weihnachtsfeier gerne die folgenden Artikel bestellen:\n",
      "\n",
      "5 Rentierkostüme for 125.0 \n",
      "\n",
      "\n",
      "Liebe Grüße\n",
      "\n",
      "Hallo Dekorationen und Mehr,\n",
      "\n",
      "Wir würden für unsere Weihnachtsfeier gerne die folgenden Artikel bestellen:\n",
      "\n",
      "100 Weihnachtskerzen for 450.0 \n",
      "20 Weihnachtskugeln for 139.8 \n",
      "5 Lichterketten for 44.95 \n",
      "\n",
      "\n",
      "Liebe Grüße\n",
      "\n",
      "Hallo Baumschule GmbH,\n",
      "\n",
      "Wir würden für unsere Weihnachtsfeier gerne die folgenden Artikel bestellen:\n",
      "\n",
      "1 Weihnachtsbaum for 50.0 \n",
      "\n",
      "\n",
      "Liebe Grüße\n",
      "\n"
     ]
    }
   ],
   "source": [
    "write_letters_grouped()"
   ]
  }
 ],
 "metadata": {
  "kernelspec": {
   "display_name": "base",
   "language": "python",
   "name": "python3"
  },
  "language_info": {
   "codemirror_mode": {
    "name": "ipython",
    "version": 3
   },
   "file_extension": ".py",
   "mimetype": "text/x-python",
   "name": "python",
   "nbconvert_exporter": "python",
   "pygments_lexer": "ipython3",
   "version": "3.10.9"
  }
 },
 "nbformat": 4,
 "nbformat_minor": 2
}
